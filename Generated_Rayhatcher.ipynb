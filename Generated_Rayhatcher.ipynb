{
 "cells": [
  {
   "cell_type": "markdown",
   "id": "63c47d44",
   "metadata": {},
   "source": [
    "# Generated Rayhatcher\n",
    "\n",
    "This is an experiment in generating SDF code using Python and (a lot of) randomness. \n",
    "\n",
    "Piter Pasma's Universal Rayhatcher project has presented lots of great technical challenges in trying to master SDFs and write correct and efficient formulas for beautiful Rayhatcher pieces. The collection has turned out amazing and I recommend everyone to browse it on https://fxwho.xyz/fxhash/urh to see outputs and the SDF code that made the output. The official project page is over at https://www.fxhash.xyz/generative/slug/universal-rayhatcher in case the previous link does not work.\n",
    "\n",
    "## Okay but what is this notebook\n",
    "\n",
    "Crafting valid SDFs manually can take a lot of time and ensuring they give exactly the output you want is even harder. What if we instead leave the output design to randomness? We still have to make SDFs though. That's where this short Python notebook comes in. I essentially wanted to challenge myself to see if I could pull off generating valid SDF code using code.\n",
    "\n",
    "My go-to language is Python, but this could just as easily have been done using Javascript.\n",
    "\n",
    "## Structure\n",
    "\n",
    "The basic idea is to have a list of shapes and a list of transformations, select a number of them at random and generate valid SDF code with that. A bit of experimentation led me to a fairly modular approach of defining shapes and transformations, allowing them to have variable number of arguments and modifiers. \"Arguments\" are the values given to the function (like x,y,z for the dimentions). \"Modifiers\" are subtractions that apply to the result of the function to achieve effects like inflating shapes. I'm sure I could have made a more streamlined version of these data structures if I spent more time on optimizing it though. This is very much just an experiment to see if I could pull it off."
   ]
  },
  {
   "cell_type": "code",
   "execution_count": 1,
   "id": "de64c625",
   "metadata": {},
   "outputs": [],
   "source": [
    "from math import floor\n",
    "from random import randint, uniform, choice"
   ]
  },
  {
   "cell_type": "code",
   "execution_count": 2,
   "id": "faca6b4f",
   "metadata": {},
   "outputs": [],
   "source": [
    "shapes = [\n",
    "    {\n",
    "        \"name\": \"sphere\",\n",
    "        \"func\": \"L\",\n",
    "        \"args\": [\"x\",\"y\",\"z\"],\n",
    "        \"vals\": [],\n",
    "        \"mods\": [\"r\"]\n",
    "    },\n",
    "    {\n",
    "        \"name\": \"box\",\n",
    "        \"func\": \"bx3\",\n",
    "        \"args\": [\"x\",\"y\",\"z\"],\n",
    "        \"vals\": [\"a\",\"b\",\"c\"],\n",
    "        \"mods\": [\"r\"],\n",
    "    },\n",
    "    {\n",
    "        \"name\": \"cylinder\",\n",
    "        \"func\": \"L\",\n",
    "        \"args\": [\"x\",\"y\"],\n",
    "        \"vals\": [],\n",
    "        \"mods\": [\"a\"],\n",
    "    },\n",
    "    {\n",
    "        \"name\": \"donut\",\n",
    "        \"func\": \"don\",\n",
    "        \"args\": [\"x\",\"y\",\"z\"],\n",
    "        \"vals\": [\"a\",\"b\"],\n",
    "        \"mods\": [],\n",
    "    },\n",
    "]\n",
    "\n",
    "transformations = [\n",
    "    {\n",
    "        \"name\": \"repeat\",\n",
    "        \"func\": \"TR\",\n",
    "        \"args\": [\"x\"],\n",
    "        \"extra_args\": [],\n",
    "        \"mods\": [],\n",
    "    },\n",
    "    {\n",
    "        \"name\": \"cutoff\",\n",
    "        \"func\": \"B\",\n",
    "        \"args\": [\"x\"],\n",
    "        \"extra_args\": [],\n",
    "        \"mods\": [\"a\"],\n",
    "    },\n",
    "    {\n",
    "        \"name\": \"modulate\",\n",
    "        \"func\": \"mod\",\n",
    "        \"args\": [\"x\"],\n",
    "        \"extra_args\": [\"m\"],\n",
    "        \"mods\": [],\n",
    "    },\n",
    "]\n",
    "\n",
    "template = [\n",
    "    {\n",
    "        \"name\": \"\",\n",
    "        \"func\": \"\",\n",
    "        \"args\": [],\n",
    "        \"mods\": [],\n",
    "    },\n",
    "]"
   ]
  },
  {
   "cell_type": "code",
   "execution_count": 3,
   "id": "38fbc599",
   "metadata": {},
   "outputs": [],
   "source": [
    "def transform_arg(x):\n",
    "    r = random()\n",
    "    if r < 0.15:\n",
    "        f = transformations[0]\n",
    "    elif r < 0.3:\n",
    "        f = transformations[1]\n",
    "    elif r < 0.45:\n",
    "        f = transformations[2]\n",
    "    else:\n",
    "        return x\n",
    "\n",
    "    extra_args = [f\"{uniform(-5,5):.2f}\" for i in range(len(f['extra_args']))]\n",
    "    mods = [str(-randint(2,5)) for i in range(len(f['mods']))]\n",
    "    return f\"{f['func']}({','.join([x] + extra_args)}){''.join(mods)}\""
   ]
  },
  {
   "cell_type": "code",
   "execution_count": 4,
   "id": "81d7edce",
   "metadata": {},
   "outputs": [],
   "source": [
    "def render_func(f):\n",
    "    args = [f\"{a}+{uniform(-10,10):.2f}\" for a in f['args']]\n",
    "    args = [transform_arg(a) for a in args]\n",
    "    vals = [f\"{uniform(0.01,10):.2f}\" for i in range(len(f['vals']))]\n",
    "    mods = [f\"{-uniform(0.1,5):.2f}\" for i in range(len(f['mods']))]\n",
    "    return f\"{f['func']}({','.join(args + vals)}){''.join(mods)}\""
   ]
  },
  {
   "cell_type": "markdown",
   "id": "05aa4e75",
   "metadata": {},
   "source": [
    "## Generate 10 variants of SDF code\n",
    "\n",
    "These strings should work out of the box by copy-pasting into the Universal Rayhatcher development environment at https://extreme-rayhatching.netlify.app/?target=https://extreme-rayhatching.netlify.app/dist \n",
    "\n",
    "Rerun the cell below to get new ones.\n",
    "\n",
    "Example 5 in the list below is the one I titled \"Random+Python\" and minted as https://www.fxhash.xyz/gentk/FX1-130478"
   ]
  },
  {
   "cell_type": "code",
   "execution_count": 104,
   "id": "27cf25d3",
   "metadata": {},
   "outputs": [
    {
     "name": "stdout",
     "output_type": "stream",
     "text": [
      "U(L(x+-9.20,y+-3.85)-1.98,L(x+-6.90,y+7.13,B(z+-3.71)-5)-4.20,L(x+-3.31,TR(y+2.29))-1.65,don(x+-3.66,B(y+-5.59)-5,z+1.06,4.31,0.17),don(x+9.08,y+8.74,z+-3.70,3.54,3.77),L(x+-7.51,y+-3.91,TR(z+8.29))-0.50)\n",
      "\n",
      "U(bx3(x+0.84,TR(y+3.98),B(z+-8.83)-3,4.47,4.74,5.30)-2.81,bx3(x+-6.91,y+-9.64,z+6.62,7.93,2.54,9.94)-1.09,L(mod(x+8.07,4.83),y+7.71,B(z+0.57)-3)-1.71,don(mod(x+-2.24,-0.16),y+9.65,B(z+-5.24)-4,7.44,7.23),bx3(x+-3.83,B(y+-8.66)-3,z+-0.15,2.67,3.28,4.10)-3.08,bx3(TR(x+-3.26),TR(y+5.56),mod(z+2.43,-2.40),0.01,9.47,5.60)-3.28)\n",
      "\n",
      "U(L(x+0.36,y+-4.03,TR(z+7.37))-1.02,don(TR(x+4.59),TR(y+-7.72),z+-0.90,9.61,1.27),don(B(x+-5.27)-5,y+-9.51,z+4.93,4.64,2.34),L(x+-0.85,mod(y+4.70,-0.86),z+-8.41)-2.51,bx3(x+6.14,y+-6.17,B(z+3.96)-4,4.74,5.02,1.47)-0.44,bx3(x+-4.28,mod(y+-5.66,3.12),B(z+8.66)-5,1.97,9.55,7.52)-2.83,L(TR(x+-4.82),y+1.91,mod(z+-3.16,3.03))-4.97,L(B(x+8.25)-4,y+0.14,z+-7.07)-4.22,bx3(B(x+-2.19)-5,TR(y+-0.22),TR(z+6.51),9.97,9.22,8.30)-0.45,don(B(x+0.80)-5,TR(y+5.05),z+1.32,2.66,3.09))\n",
      "\n",
      "U(bx3(x+9.34,y+-2.26,mod(z+-1.03,-4.33),1.94,1.13,6.02)-0.73,bx3(x+0.30,y+3.25,B(z+-3.11)-4,2.16,2.40,4.68)-0.29,don(mod(x+6.08,4.63),y+0.33,z+1.79,3.45,1.06),L(TR(x+8.23),y+-3.00,TR(z+-3.24))-1.75)\n",
      "\n",
      "U(don(mod(x+-8.22,4.46),mod(y+3.88,4.36),TR(z+5.17),4.19,9.74),bx3(x+8.88,y+3.14,z+-7.53,6.72,2.08,8.98)-3.77,bx3(x+-0.14,mod(y+-2.22,4.17),z+-2.84,1.88,3.59,6.38)-0.57,L(x+4.15,TR(y+-4.79),mod(z+9.16,-4.84))-0.16,don(B(x+-0.87)-4,B(y+-3.58)-3,TR(z+-8.70),9.79,8.58),L(x+9.67,B(y+6.01)-5)-4.49,L(B(x+-4.68)-4,y+-8.46)-1.78,don(x+-6.66,y+4.27,z+6.62,4.38,8.19))\n",
      "\n",
      "U(don(x+-3.81,y+-4.93,z+7.11,9.85,9.22),L(TR(x+7.49),B(y+-6.03)-3,z+-5.54)-0.23,don(x+7.73,y+7.34,mod(z+1.86,-3.70),0.26,9.53),L(x+-8.12,y+-8.08,TR(z+3.91))-3.03,bx3(x+7.35,y+0.38,z+-9.40,8.41,4.50,3.21)-1.90,bx3(TR(x+8.92),TR(y+8.94),TR(z+2.02),8.11,6.41,0.44)-1.81,don(x+2.15,B(y+0.58)-2,z+-5.91,3.58,5.35),L(x+-2.31,TR(y+-9.56),TR(z+-7.74))-1.04,L(x+9.55,TR(y+7.18))-3.09,bx3(B(x+6.01)-5,y+-0.64,mod(z+-8.12,2.13),1.70,0.38,4.42)-2.35)\n",
      "\n",
      "U(L(B(x+-3.69)-5,y+4.23)-2.71,don(x+7.52,TR(y+-4.52),B(z+-8.30)-5,8.10,6.87),bx3(x+-1.58,TR(y+9.21),z+0.65,1.21,1.22,4.36)-3.74,L(x+-0.93,mod(y+-5.20,3.51))-2.78,L(TR(x+2.12),y+-6.31,z+-6.71)-1.89,don(x+4.39,y+-7.73,z+5.97,3.92,6.77),don(x+-3.39,TR(y+-5.43),mod(z+-5.65,-2.79),1.06,7.31),don(TR(x+-1.59),B(y+9.27)-3,mod(z+-4.19,-2.32),6.63,7.87),bx3(TR(x+-0.83),mod(y+1.15,2.00),z+9.16,4.69,2.69,5.77)-1.54)\n",
      "\n",
      "U(bx3(x+1.85,y+-7.40,z+1.12,5.95,4.97,3.05)-4.74,bx3(mod(x+-5.25,2.05),TR(y+9.57),z+4.25,1.77,3.94,7.47)-4.16,don(x+2.45,TR(y+3.64),B(z+-0.15)-2,2.95,7.20),bx3(x+-9.09,mod(y+0.16,2.86),mod(z+-2.83,0.93),3.97,5.08,5.91)-1.26,L(mod(x+-5.91,-0.09),mod(y+-2.38,2.27),z+-2.66)-2.90,L(mod(x+4.32,-4.08),B(y+-5.12)-2,B(z+-2.33)-2)-0.63,L(mod(x+4.07,-1.93),y+-5.02,TR(z+1.12))-1.35,L(B(x+-1.42)-5,mod(y+5.60,-1.61))-3.73,don(TR(x+-7.81),mod(y+-5.72,-1.29),TR(z+-5.37),4.24,2.03))\n",
      "\n",
      "U(L(x+-9.81,B(y+-3.73)-3)-4.08,bx3(TR(x+-9.65),mod(y+7.23,-3.70),z+-1.26,5.60,3.53,2.44)-0.61,don(x+-8.48,B(y+-8.14)-5,z+3.41,9.69,1.26),bx3(x+7.33,mod(y+2.46,3.66),B(z+4.50)-3,8.10,3.00,1.50)-0.80)\n",
      "\n",
      "U(L(TR(x+3.32),y+-1.73)-3.13,bx3(B(x+-6.87)-2,y+2.49,z+0.02,2.91,4.21,1.67)-2.44,don(B(x+-8.81)-4,y+3.51,z+-9.10,0.77,3.07),don(x+2.40,y+-0.09,TR(z+-1.06),1.45,1.54))\n",
      "\n"
     ]
    }
   ],
   "source": [
    "for _ in range(10):\n",
    "    print(f\"\"\"U({','.join([render_func(f) for f in [choice(shapes) for i in range(randint(4,10))]])})\"\"\")\n",
    "    print()"
   ]
  },
  {
   "cell_type": "code",
   "execution_count": null,
   "id": "a113206b",
   "metadata": {},
   "outputs": [],
   "source": []
  }
 ],
 "metadata": {
  "kernelspec": {
   "display_name": "Python 3 (ipykernel)",
   "language": "python",
   "name": "python3"
  },
  "language_info": {
   "codemirror_mode": {
    "name": "ipython",
    "version": 3
   },
   "file_extension": ".py",
   "mimetype": "text/x-python",
   "name": "python",
   "nbconvert_exporter": "python",
   "pygments_lexer": "ipython3",
   "version": "3.9.5"
  }
 },
 "nbformat": 4,
 "nbformat_minor": 5
}
